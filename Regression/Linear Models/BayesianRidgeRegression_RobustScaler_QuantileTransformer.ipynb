{
 "cells": [
  {
   "cell_type": "markdown",
   "metadata": {
    "id": "qw-3zVyjI8c1"
   },
   "source": [
    "# LogisticRegression with RobustScaler & QuantileTransformer"
   ]
  },
  {
   "cell_type": "markdown",
   "metadata": {
    "id": "jAxm5M3NOwLL"
   },
   "source": [
    "This code template can be used for the regression analysis with data Rescaling and Feature Transformation techniques RobustScaler and QuantileTransformer respectively."
   ]
  },
  {
   "cell_type": "markdown",
   "metadata": {
    "id": "VU9LuzqMPGMw"
   },
   "source": [
    "### Required Packages"
   ]
  },
  {
   "cell_type": "code",
   "execution_count": 23,
   "metadata": {
    "id": "Cf2KNVaWI8c8"
   },
   "outputs": [],
   "source": [
    "import warnings as wr\n",
    "import numpy as np\n",
    "import pandas as pd\n",
    "import seaborn as sns\n",
    "import matplotlib.pyplot as plt\n",
    "from sklearn.preprocessing import LabelEncoder\n",
    "from sklearn.pipeline import make_pipeline\n",
    "from sklearn.preprocessing import scale, PowerTransformer,QuantileTransformer,RobustScaler,QuantileTransformer\n",
    "from sklearn.model_selection import train_test_split\n",
    "from sklearn.linear_model import BayesianRidge\n",
    "from imblearn.over_sampling import RandomOverSampler\n",
    "from sklearn.metrics import classification_report,confusion_matrix\n",
    "from sklearn.model_selection import train_test_split\n",
    "from sklearn.metrics import r2_score, mean_absolute_error, mean_squared_error\n",
    "wr.filterwarnings('ignore')"
   ]
  },
  {
   "cell_type": "markdown",
   "metadata": {
    "id": "lFykDmJII8c9"
   },
   "source": [
    "### Initialization\n",
    "Filepath of CSV file"
   ]
  },
  {
   "cell_type": "code",
   "execution_count": 26,
   "metadata": {
    "id": "tO2uUlukI8c-"
   },
   "outputs": [],
   "source": [
    "#filepath\n",
    "file_path= \"\""
   ]
  },
  {
   "cell_type": "markdown",
   "metadata": {
    "id": "XAJDKzqXI8c_"
   },
   "source": [
    "List of features which are  required for model training."
   ]
  },
  {
   "cell_type": "code",
   "execution_count": 27,
   "metadata": {
    "id": "-jzGscQhI8c_"
   },
   "outputs": [],
   "source": [
    "#x_values\n",
    "features=[]"
   ]
  },
  {
   "cell_type": "markdown",
   "metadata": {
    "id": "6DFzqbb3I8dA"
   },
   "source": [
    "Target feature for prediction."
   ]
  },
  {
   "cell_type": "code",
   "execution_count": 28,
   "metadata": {
    "id": "bqjRo4AWI8dB"
   },
   "outputs": [],
   "source": [
    "#y_value\n",
    "target=''"
   ]
  },
  {
   "cell_type": "markdown",
   "metadata": {
    "id": "fqv7RkeKI8dC"
   },
   "source": [
    "### Data Fetching\n",
    "\n",
    "Pandas is an open-source, BSD-licensed library providing high-performance, easy-to-use data manipulation and data analysis tools.\n",
    "\n",
    "We will use panda's library to read the CSV file using its storage path.And we use the head function to display the initial row or entry."
   ]
  },
  {
   "cell_type": "code",
   "execution_count": 29,
   "metadata": {
    "colab": {
     "base_uri": "https://localhost:8080/",
     "height": 203
    },
    "id": "sDuo2DzBI8dD",
    "outputId": "6b1991af-64eb-44bc-fddc-1442f1ae89d7"
   },
   "outputs": [
    {
     "data": {
      "text/html": [
       "<div>\n",
       "<style scoped>\n",
       "    .dataframe tbody tr th:only-of-type {\n",
       "        vertical-align: middle;\n",
       "    }\n",
       "\n",
       "    .dataframe tbody tr th {\n",
       "        vertical-align: top;\n",
       "    }\n",
       "\n",
       "    .dataframe thead th {\n",
       "        text-align: right;\n",
       "    }\n",
       "</style>\n",
       "<table border=\"1\" class=\"dataframe\">\n",
       "  <thead>\n",
       "    <tr style=\"text-align: right;\">\n",
       "      <th></th>\n",
       "      <th>align</th>\n",
       "      <th>choice</th>\n",
       "      <th>time</th>\n",
       "      <th>coherence</th>\n",
       "      <th>firing_rate</th>\n",
       "    </tr>\n",
       "  </thead>\n",
       "  <tbody>\n",
       "    <tr>\n",
       "      <th>0</th>\n",
       "      <td>dots</td>\n",
       "      <td>T1</td>\n",
       "      <td>-80</td>\n",
       "      <td>0.0</td>\n",
       "      <td>33.189967</td>\n",
       "    </tr>\n",
       "    <tr>\n",
       "      <th>1</th>\n",
       "      <td>dots</td>\n",
       "      <td>T1</td>\n",
       "      <td>-80</td>\n",
       "      <td>3.2</td>\n",
       "      <td>31.691726</td>\n",
       "    </tr>\n",
       "    <tr>\n",
       "      <th>2</th>\n",
       "      <td>dots</td>\n",
       "      <td>T1</td>\n",
       "      <td>-80</td>\n",
       "      <td>6.4</td>\n",
       "      <td>34.279840</td>\n",
       "    </tr>\n",
       "    <tr>\n",
       "      <th>3</th>\n",
       "      <td>dots</td>\n",
       "      <td>T1</td>\n",
       "      <td>-80</td>\n",
       "      <td>12.8</td>\n",
       "      <td>32.631874</td>\n",
       "    </tr>\n",
       "    <tr>\n",
       "      <th>4</th>\n",
       "      <td>dots</td>\n",
       "      <td>T1</td>\n",
       "      <td>-80</td>\n",
       "      <td>25.6</td>\n",
       "      <td>35.060487</td>\n",
       "    </tr>\n",
       "  </tbody>\n",
       "</table>\n",
       "</div>"
      ],
      "text/plain": [
       "  align choice  time  coherence  firing_rate\n",
       "0  dots     T1   -80        0.0    33.189967\n",
       "1  dots     T1   -80        3.2    31.691726\n",
       "2  dots     T1   -80        6.4    34.279840\n",
       "3  dots     T1   -80       12.8    32.631874\n",
       "4  dots     T1   -80       25.6    35.060487"
      ]
     },
     "execution_count": 29,
     "metadata": {},
     "output_type": "execute_result"
    }
   ],
   "source": [
    "df=pd.read_csv(file_path)\n",
    "df.head()"
   ]
  },
  {
   "cell_type": "markdown",
   "metadata": {
    "id": "MXsFAFHWI8dF"
   },
   "source": [
    "### Feature Selections\n",
    "\n",
    "It is the process of reducing the number of input variables when developing a predictive model. Used to reduce the number of input variables to both reduce the computational cost of modelling and, in some cases, to improve the performance of the model.\n",
    "\n",
    "We will assign all the required input features to X and target/outcome to Y."
   ]
  },
  {
   "cell_type": "code",
   "execution_count": 30,
   "metadata": {
    "id": "arW9ZJsGI8dG"
   },
   "outputs": [],
   "source": [
    "X=df[features]\n",
    "Y=df[target]"
   ]
  },
  {
   "cell_type": "markdown",
   "metadata": {
    "id": "Nd5lLS_gI8dG"
   },
   "source": [
    "### Data Preprocessing\n",
    "\n",
    "Since the majority of the machine learning models in the Sklearn library doesn't handle string category data and Null value, we have to explicitly remove or replace null values. The below snippet have functions, which removes the null value if any exists. And convert the string classes data in the datasets by encoding them to integer classes.\n"
   ]
  },
  {
   "cell_type": "code",
   "execution_count": 31,
   "metadata": {
    "id": "baDl1Fx8I8dH"
   },
   "outputs": [],
   "source": [
    "def NullClearner(df):\n",
    "    if(isinstance(df, pd.Series) and (df.dtype in [\"float64\",\"int64\"])):\n",
    "        df.fillna(df.mean(),inplace=True)\n",
    "        return df\n",
    "    elif(isinstance(df, pd.Series)):\n",
    "        df.fillna(df.mode()[0],inplace=True)\n",
    "        return df\n",
    "    else:return df\n",
    "def EncodeX(df):\n",
    "    return pd.get_dummies(df)\n",
    "def EncodeY(df):\n",
    "    if len(df.unique())<=2:\n",
    "        return df\n",
    "    else:\n",
    "        un_EncodedT=np.sort(pd.unique(df), axis=-1, kind='mergesort')\n",
    "        df=LabelEncoder().fit_transform(df)\n",
    "        EncodedT=[xi for xi in range(len(un_EncodedT))]\n",
    "        print(\"Encoded Target: {} to {}\".format(un_EncodedT,EncodedT))\n",
    "        return df"
   ]
  },
  {
   "cell_type": "markdown",
   "metadata": {
    "id": "6WPtP4w1I8dH"
   },
   "source": [
    "Calling preprocessing functions on the feature and target set.\n"
   ]
  },
  {
   "cell_type": "code",
   "execution_count": 32,
   "metadata": {
    "colab": {
     "base_uri": "https://localhost:8080/",
     "height": 203
    },
    "id": "qR1kiLwoI8dI",
    "outputId": "5833c617-1bb6-48b5-b2da-158dbc756180"
   },
   "outputs": [
    {
     "name": "stdout",
     "output_type": "stream",
     "text": [
      "Encoded Target: [ 6.27572016  6.37860082  6.47410359  6.57370518  6.60469667  6.67655786\n",
      "  6.89910979  7.02933985  7.21271394  7.34421365  7.39608802  7.45721271\n",
      "  7.4853229   7.61316872  7.66601562  7.7689243   8.05664062  8.12133072\n",
      "  8.25195312  8.30860534  8.48765432  8.71513944  8.86454183  9.35207824\n",
      "  9.47265625  9.93150685 10.08230453 10.37181996 10.45816733 10.68592866\n",
      " 11.10567515 11.47460938 12.44855967 12.78383384 13.14180929 13.33007812\n",
      " 14.44223108 14.481409   14.86625514 16.07142857 16.56479218 16.89453125\n",
      " 18.6888454  19.37652812 19.5473251  20.3125     20.3685259  21.04492188\n",
      " 23.21428571 23.58121331 23.88565891 24.38875306 24.6399177  24.7098646\n",
      " 25.04901961 25.34313725 25.53294574 25.87040619 25.87890625 25.89641434\n",
      " 25.99580713 26.2254902  26.47058824 26.70278638 26.78837247 26.85758514\n",
      " 26.99161426 27.00980392 27.08978328 27.09947637 27.14884696 27.16738643\n",
      " 27.19638243 27.36943907 27.46331237 27.47093023 27.49576256 27.54423043\n",
      " 27.54901961 27.56286267 27.58397933 27.64705882 27.67295597 27.7269053\n",
      " 27.77777778 27.83715554 27.85181225 27.86141873 27.89215686 27.90135397\n",
      " 28.00387597 28.0553222  28.14465409 28.18627451 28.29457364 28.33333333\n",
      " 28.38491296 28.4067086  28.50927732 28.5115304  28.57843137 28.67504836\n",
      " 28.71175877 28.721174   28.82011605 28.85726311 28.98322851 29.00516796\n",
      " 29.06976744 29.15230496 29.16666667 29.30528376 29.45492662 29.56656347\n",
      " 29.62962963 29.64396285 29.65116279 29.69052224 29.69667319 29.72136223\n",
      " 29.73887814 29.80392157 29.81667219 29.84496124 29.90956072 29.92544673\n",
      " 29.93230174 29.95098039 29.98511905 30.09707585 30.13565891 30.13626834\n",
      " 30.24109015 30.24509804 30.26315789 30.28100775 30.32146368 30.42645634\n",
      " 30.44117647 30.49535604 30.50637569 30.57275542 30.62015504 30.66860465\n",
      " 30.69564951 30.74935401 30.81395349 30.82669323 30.86797066 30.87797619\n",
      " 30.90962042 30.92243187 30.94315245 30.94777563 30.94928928 30.95930233\n",
      " 30.95975232 31.10119048 31.10465116 31.17359413 31.18697894 31.19277604\n",
      " 31.24210285 31.2745098  31.29844961 31.3593367  31.36367341 31.37254902\n",
      " 31.39534884 31.40846855 31.41440491 31.49414062 31.52804642 31.54761905\n",
      " 31.64443725 31.65374677 31.67066199 31.67330677 31.69172552 31.73374613\n",
      " 31.78570811 31.80592106 31.83053157 31.86653772 31.91176471 31.93991616\n",
      " 31.96821516 31.99229382 32.12074303 32.12151394 32.21899225 32.24153298\n",
      " 32.26660328 32.28962818 32.34558139 32.36607143 32.37836261 32.43503635\n",
      " 32.46124031 32.48887541 32.53424658 32.58513932 32.6318743  32.63301621\n",
      " 32.65503876 32.6625387  32.66958523 32.79864052 32.83365571 32.86156282\n",
      " 32.8685259  32.88567845 32.94573643 32.9787234  33.00733496 33.01911836\n",
      " 33.03034694 33.05076005 33.06841308 33.09108527 33.13953488 33.16040805\n",
      " 33.1899674  33.22851153 33.28173375 33.33333333 33.34960938 33.41097788\n",
      " 33.42639722 33.43673574 33.4622824  33.48214286 33.51593625 33.59173127\n",
      " 33.61056751 33.62295468 33.67647059 33.6797066  33.73267699 33.74485597\n",
      " 33.7657325  33.76863203 33.81782946 33.84912959 33.86627907 33.88123367\n",
      " 34.01960784 34.05572755 34.06600313 34.13926499 34.17601238 34.18833273\n",
      " 34.27734375 34.2784884  34.27983996 34.29410793 34.3093087  34.3627451\n",
      " 34.375      34.41176471 34.43355376 34.46215139 34.47850599 34.51646091\n",
      " 34.52012384 34.56175299 34.67261905 34.6749226  34.70588235 34.71953578\n",
      " 34.76095618 34.78473581 34.84107579 34.85294118 34.88258317 34.89583333\n",
      " 34.90566038 34.91295938 34.96332518 34.97010726 34.98452012 34.98757102\n",
      " 34.99142367 35.00618724 35.00976562 35.0129199  35.06048746 35.10638298\n",
      " 35.10823702 35.11904762 35.20309478 35.2250005  35.25390625 35.26185089\n",
      " 35.26949541 35.29819696 35.31976744 35.34084719 35.34313725 35.35856574\n",
      " 35.3909465  35.39651838 35.4005168  35.51344743 35.51550388 35.52631579\n",
      " 35.56751468 35.57457213 35.59431525 35.61046512 35.64814815 35.65891473\n",
      " 35.68111455 35.69958848 35.82638853 35.86105675 35.88007737 35.88235294\n",
      " 35.88867188 35.88906907 35.97678917 35.98039216 35.98080036 35.98191214\n",
      " 36.00628931 36.00823045 36.02757417 36.07380724 36.07562942 36.11111111\n",
      " 36.14227938 36.14551084 36.18581907 36.19186047 36.20321939 36.20517928\n",
      " 36.25498008 36.27929688 36.29193544 36.32075472 36.33902967 36.36363636\n",
      " 36.36950904 36.43978873 36.45649711 36.45930127 36.47119342 36.50368172\n",
      " 36.51231537 36.53476785 36.53750275 36.55378486 36.57450983 36.66992188\n",
      " 36.67780566 36.71271964 36.72029371 36.76868593 36.7858148  36.79706601\n",
      " 36.82144177 36.87864737 36.89727463 36.9193154  36.95090439 36.98630137\n",
      " 37.03714584 37.05450734 37.05851319 37.06054688 37.06950867 37.07290188\n",
      " 37.07753014 37.10928924 37.14027785 37.16381418 37.17823713 37.25923603\n",
      " 37.28291934 37.34730106 37.35351562 37.36819956 37.39194015 37.46130031\n",
      " 37.48523354 37.58577605 37.59960159 37.62534244 37.68986365 37.70375716\n",
      " 37.73106628 37.74414062 37.76967276 37.79296875 37.79585393 37.80626724\n",
      " 37.81785888 37.83914729 37.84067086 37.85232644 37.85529716 37.85575049\n",
      " 37.86266925 37.87121638 37.91239761 37.91585127 37.93088115 37.95635988\n",
      " 38.01369863 38.0156523  38.02835727 38.07267159 38.0762368  38.0980698\n",
      " 38.12434421 38.13449253 38.14667119 38.20293399 38.20705475 38.24404762\n",
      " 38.25669628 38.26338447 38.27465419 38.27907253 38.29463026 38.31200256\n",
      " 38.31775701 38.3195658  38.36027053 38.39009288 38.47190048 38.47992981\n",
      " 38.49601594 38.49607548 38.50420128 38.51195621 38.52017585 38.62612928\n",
      " 38.63016867 38.70389406 38.76819129 38.78320894 38.87548125 38.89269087\n",
      " 38.94000539 38.94070237 38.98597116 38.99455912 39.06865386 39.07383611\n",
      " 39.2062263  39.23595399 39.34191354 39.39941239 39.40915388 39.48780742\n",
      " 39.56803292 39.5781225  39.68521559 39.73337613 39.74288111 39.84599921\n",
      " 39.85457863 39.87622677 39.90270779 39.90986509 39.9167537  39.96895539\n",
      " 40.00930398 40.0444202  40.1513881  40.24381731 40.2619259  40.30203873\n",
      " 40.40247678 40.4096732  40.43413525 40.4448454  40.52016605 40.53717629\n",
      " 40.62287638 40.62854035 40.62933554 40.64964452 40.65999957 40.6714854\n",
      " 40.77810184 40.8200657  40.88718423 40.94293575 40.94594483 40.99411627\n",
      " 41.01363271 41.14199036 41.19470564 41.22076267 41.23754917 41.23845481\n",
      " 41.25804033 41.30937647 41.36665397 41.3684008  41.38763088 41.50883927\n",
      " 41.5255818  41.56100242 41.56180161 41.58048482 41.63137315 41.63607623\n",
      " 41.67959392 41.71605656 41.78818321 41.81764445 41.82332126 41.84167406\n",
      " 41.85655304 41.90287586 41.9109631  41.91355774 41.98712132 42.0781893\n",
      " 42.07886979 42.08590059 42.09516552 42.12535135 42.14113716 42.18834996\n",
      " 42.19196351 42.28971963 42.30745051 42.37664442 42.41947087 42.42345494\n",
      " 42.45491586 42.462574   42.57429202 42.62594013 42.75072718 42.75780857\n",
      " 42.83157751 42.85561542 42.94207659 42.99499868 42.99850094 43.00090457\n",
      " 43.00182028 43.07164661 43.07383516 43.07567675 43.10746848 43.18151995\n",
      " 43.20531303 43.28764466 43.31322251 43.32912594 43.33257235 43.35219614\n",
      " 43.3612316  43.3791616  43.46495885 43.51417118 43.51767614 43.75\n",
      " 43.88893986 44.00212761 44.03510059 44.05315722 44.17897118 44.18816696\n",
      " 44.21033071 44.2150705  44.21999542 44.24957909 44.37250996 44.37377691\n",
      " 44.42666719 44.47084349 44.55030676 44.5806311  44.5909389  44.63347074\n",
      " 44.67773438 45.13449187 45.18384503 45.21457418 45.22940296 45.23227384\n",
      " 45.23251204 45.25451146 45.28545274 45.33531505 45.34171775 45.35636339\n",
      " 45.40005935 45.41515029 45.4264029  45.47943134 45.48239428 45.50655353\n",
      " 45.55799764 45.56981267 45.63335958 45.64033321 45.64833254 45.72822155\n",
      " 45.92410436 45.97567883 45.97801187 46.00721532 46.03629556 46.08601052\n",
      " 46.10917737 46.39379439 46.48067236 46.66561786 46.76805438 46.79398657\n",
      " 46.92977221 47.06353638 47.17129107 47.37080632 47.42217846 47.57051383\n",
      " 47.60794659 47.61310678 47.67419784 47.74033113 47.88117902 47.89629133\n",
      " 47.94531456 47.99651258 48.05799807 48.06662797 48.1607609  48.42537154\n",
      " 48.65147744 48.7946689  48.81652584 48.83188633 48.84741133 48.90920595\n",
      " 48.98300837 49.12039427 49.39535758 49.408671   49.41794849 49.41824814\n",
      " 49.44555901 49.6034787  49.60724639 49.62772189 49.75898955 49.84533306\n",
      " 49.84836005 49.89245099 50.01204547 50.06199656 50.14534527 50.20880298\n",
      " 50.23500606 50.28002339 50.28403839 50.43079584 50.46099487 50.54757117\n",
      " 50.56374539 50.59837032 50.88490111 50.89805906 50.92891697 51.02073415\n",
      " 51.02133402 51.03238091 51.04267607 51.2067586  51.25496726 51.26488095\n",
      " 51.26779359 51.29958605 51.36662668 51.46251552 51.494685   51.49584393\n",
      " 51.49830443 51.69715791 51.71566623 51.79476287 51.8395633  51.95599022\n",
      " 51.96763918 51.97225899 52.02925083 52.10631468 52.27163821 52.31346851\n",
      " 52.31481481 52.5509988  52.58651219 52.62490112 52.63794446 52.6625406\n",
      " 52.67404761 52.68068178 52.813855   52.83757339 52.84513806 52.89023888\n",
      " 53.0425606  53.0430826  53.07783358 53.23705179 53.26300514 53.2776573\n",
      " 53.40635077 53.42352272 53.46735869 53.61328125 53.7183234  53.82723311\n",
      " 53.88397245 53.8916036  53.94585869 53.99217701 54.01028235 54.06600568\n",
      " 54.09698873 54.18754646 54.27060997 54.30218802 54.32072051 54.34422802\n",
      " 54.50643069 54.60715682 54.60966013 54.6633426  54.89679976 55.06923628\n",
      " 55.35057027 55.38790641 55.48330481 55.62574505 55.74110821 55.85134733\n",
      " 55.86655139 55.91071119 56.00626348 56.08364826 56.31595831 56.36311204\n",
      " 56.56769603 56.56848801 56.57092707 56.57699007 56.59051202 56.59655667\n",
      " 56.70314754 56.72402923 56.74134674 56.75455024 56.96132027 57.0138949\n",
      " 57.07994788 57.15932562 57.26588554 57.3362393  57.44585186 57.61320028\n",
      " 57.64179319 57.82145698 57.88343419 57.93084644 58.11931588 58.27191537\n",
      " 58.37634128 58.43132967 58.53308329 58.55745721 58.60218299 58.77922505\n",
      " 58.79232672 58.98154307 59.00205761 59.11915397 59.12295087 59.18316216\n",
      " 59.44191145 59.47547592 59.49486136 59.68956934 60.19345238 60.35856574\n",
      " 60.74612349 61.35578109 61.65455776 62.08414873 62.13983344 62.486324\n",
      " 62.62366014 62.69254641 62.75586673 62.79546377 62.93945312 63.68039491\n",
      " 63.69677791 63.79750626 63.84462151 63.99183813 64.08854891 64.45312135\n",
      " 65.0297619  65.07859159 65.92756481 65.98605578 66.24266145 66.44345238\n",
      " 66.45507812 66.46322541 66.61279275 66.81956046 66.99266504 67.48066959\n",
      " 67.64944879 67.67928287 67.78728606 67.87109375 68.16688702 68.27628362\n",
      " 68.37649402 69.25255129 69.27592955 69.56947162 69.83359763 70.04889976] to [0, 1, 2, 3, 4, 5, 6, 7, 8, 9, 10, 11, 12, 13, 14, 15, 16, 17, 18, 19, 20, 21, 22, 23, 24, 25, 26, 27, 28, 29, 30, 31, 32, 33, 34, 35, 36, 37, 38, 39, 40, 41, 42, 43, 44, 45, 46, 47, 48, 49, 50, 51, 52, 53, 54, 55, 56, 57, 58, 59, 60, 61, 62, 63, 64, 65, 66, 67, 68, 69, 70, 71, 72, 73, 74, 75, 76, 77, 78, 79, 80, 81, 82, 83, 84, 85, 86, 87, 88, 89, 90, 91, 92, 93, 94, 95, 96, 97, 98, 99, 100, 101, 102, 103, 104, 105, 106, 107, 108, 109, 110, 111, 112, 113, 114, 115, 116, 117, 118, 119, 120, 121, 122, 123, 124, 125, 126, 127, 128, 129, 130, 131, 132, 133, 134, 135, 136, 137, 138, 139, 140, 141, 142, 143, 144, 145, 146, 147, 148, 149, 150, 151, 152, 153, 154, 155, 156, 157, 158, 159, 160, 161, 162, 163, 164, 165, 166, 167, 168, 169, 170, 171, 172, 173, 174, 175, 176, 177, 178, 179, 180, 181, 182, 183, 184, 185, 186, 187, 188, 189, 190, 191, 192, 193, 194, 195, 196, 197, 198, 199, 200, 201, 202, 203, 204, 205, 206, 207, 208, 209, 210, 211, 212, 213, 214, 215, 216, 217, 218, 219, 220, 221, 222, 223, 224, 225, 226, 227, 228, 229, 230, 231, 232, 233, 234, 235, 236, 237, 238, 239, 240, 241, 242, 243, 244, 245, 246, 247, 248, 249, 250, 251, 252, 253, 254, 255, 256, 257, 258, 259, 260, 261, 262, 263, 264, 265, 266, 267, 268, 269, 270, 271, 272, 273, 274, 275, 276, 277, 278, 279, 280, 281, 282, 283, 284, 285, 286, 287, 288, 289, 290, 291, 292, 293, 294, 295, 296, 297, 298, 299, 300, 301, 302, 303, 304, 305, 306, 307, 308, 309, 310, 311, 312, 313, 314, 315, 316, 317, 318, 319, 320, 321, 322, 323, 324, 325, 326, 327, 328, 329, 330, 331, 332, 333, 334, 335, 336, 337, 338, 339, 340, 341, 342, 343, 344, 345, 346, 347, 348, 349, 350, 351, 352, 353, 354, 355, 356, 357, 358, 359, 360, 361, 362, 363, 364, 365, 366, 367, 368, 369, 370, 371, 372, 373, 374, 375, 376, 377, 378, 379, 380, 381, 382, 383, 384, 385, 386, 387, 388, 389, 390, 391, 392, 393, 394, 395, 396, 397, 398, 399, 400, 401, 402, 403, 404, 405, 406, 407, 408, 409, 410, 411, 412, 413, 414, 415, 416, 417, 418, 419, 420, 421, 422, 423, 424, 425, 426, 427, 428, 429, 430, 431, 432, 433, 434, 435, 436, 437, 438, 439, 440, 441, 442, 443, 444, 445, 446, 447, 448, 449, 450, 451, 452, 453, 454, 455, 456, 457, 458, 459, 460, 461, 462, 463, 464, 465, 466, 467, 468, 469, 470, 471, 472, 473, 474, 475, 476, 477, 478, 479, 480, 481, 482, 483, 484, 485, 486, 487, 488, 489, 490, 491, 492, 493, 494, 495, 496, 497, 498, 499, 500, 501, 502, 503, 504, 505, 506, 507, 508, 509, 510, 511, 512, 513, 514, 515, 516, 517, 518, 519, 520, 521, 522, 523, 524, 525, 526, 527, 528, 529, 530, 531, 532, 533, 534, 535, 536, 537, 538, 539, 540, 541, 542, 543, 544, 545, 546, 547, 548, 549, 550, 551, 552, 553, 554, 555, 556, 557, 558, 559, 560, 561, 562, 563, 564, 565, 566, 567, 568, 569, 570, 571, 572, 573, 574, 575, 576, 577, 578, 579, 580, 581, 582, 583, 584, 585, 586, 587, 588, 589, 590, 591, 592, 593, 594, 595, 596, 597, 598, 599, 600, 601, 602, 603, 604, 605, 606, 607, 608, 609, 610, 611, 612, 613, 614, 615, 616, 617, 618, 619, 620, 621, 622, 623, 624, 625, 626, 627, 628, 629, 630, 631, 632, 633, 634, 635, 636, 637, 638, 639, 640, 641, 642, 643, 644, 645, 646, 647, 648, 649, 650, 651, 652, 653, 654, 655, 656, 657, 658, 659, 660, 661, 662, 663, 664, 665, 666, 667, 668, 669, 670, 671, 672, 673, 674, 675, 676, 677, 678, 679, 680, 681, 682, 683, 684, 685, 686, 687, 688, 689, 690, 691, 692, 693, 694, 695, 696, 697, 698, 699, 700, 701, 702, 703, 704, 705, 706, 707, 708, 709, 710, 711, 712, 713, 714, 715, 716, 717, 718, 719, 720, 721, 722, 723, 724, 725, 726, 727, 728, 729, 730, 731, 732, 733, 734, 735, 736, 737, 738, 739, 740, 741, 742, 743, 744, 745, 746, 747, 748, 749, 750, 751, 752, 753, 754, 755, 756, 757, 758, 759, 760, 761, 762, 763, 764, 765, 766, 767, 768, 769, 770, 771, 772, 773, 774, 775, 776, 777, 778, 779, 780, 781, 782, 783, 784, 785, 786, 787, 788, 789, 790, 791, 792, 793, 794, 795, 796, 797, 798, 799, 800, 801, 802, 803, 804, 805, 806, 807, 808, 809, 810, 811, 812, 813, 814, 815, 816, 817, 818, 819, 820, 821, 822, 823, 824, 825, 826, 827, 828, 829, 830, 831, 832, 833]\n"
     ]
    },
    {
     "data": {
      "text/html": [
       "<div>\n",
       "<style scoped>\n",
       "    .dataframe tbody tr th:only-of-type {\n",
       "        vertical-align: middle;\n",
       "    }\n",
       "\n",
       "    .dataframe tbody tr th {\n",
       "        vertical-align: top;\n",
       "    }\n",
       "\n",
       "    .dataframe thead th {\n",
       "        text-align: right;\n",
       "    }\n",
       "</style>\n",
       "<table border=\"1\" class=\"dataframe\">\n",
       "  <thead>\n",
       "    <tr style=\"text-align: right;\">\n",
       "      <th></th>\n",
       "      <th>time</th>\n",
       "      <th>coherence</th>\n",
       "      <th>align_dots</th>\n",
       "      <th>align_sacc</th>\n",
       "      <th>choice_T1</th>\n",
       "      <th>choice_T2</th>\n",
       "    </tr>\n",
       "  </thead>\n",
       "  <tbody>\n",
       "    <tr>\n",
       "      <th>0</th>\n",
       "      <td>-80</td>\n",
       "      <td>0.0</td>\n",
       "      <td>1</td>\n",
       "      <td>0</td>\n",
       "      <td>1</td>\n",
       "      <td>0</td>\n",
       "    </tr>\n",
       "    <tr>\n",
       "      <th>1</th>\n",
       "      <td>-80</td>\n",
       "      <td>3.2</td>\n",
       "      <td>1</td>\n",
       "      <td>0</td>\n",
       "      <td>1</td>\n",
       "      <td>0</td>\n",
       "    </tr>\n",
       "    <tr>\n",
       "      <th>2</th>\n",
       "      <td>-80</td>\n",
       "      <td>6.4</td>\n",
       "      <td>1</td>\n",
       "      <td>0</td>\n",
       "      <td>1</td>\n",
       "      <td>0</td>\n",
       "    </tr>\n",
       "    <tr>\n",
       "      <th>3</th>\n",
       "      <td>-80</td>\n",
       "      <td>12.8</td>\n",
       "      <td>1</td>\n",
       "      <td>0</td>\n",
       "      <td>1</td>\n",
       "      <td>0</td>\n",
       "    </tr>\n",
       "    <tr>\n",
       "      <th>4</th>\n",
       "      <td>-80</td>\n",
       "      <td>25.6</td>\n",
       "      <td>1</td>\n",
       "      <td>0</td>\n",
       "      <td>1</td>\n",
       "      <td>0</td>\n",
       "    </tr>\n",
       "  </tbody>\n",
       "</table>\n",
       "</div>"
      ],
      "text/plain": [
       "   time  coherence  align_dots  align_sacc  choice_T1  choice_T2\n",
       "0   -80        0.0           1           0          1          0\n",
       "1   -80        3.2           1           0          1          0\n",
       "2   -80        6.4           1           0          1          0\n",
       "3   -80       12.8           1           0          1          0\n",
       "4   -80       25.6           1           0          1          0"
      ]
     },
     "execution_count": 32,
     "metadata": {},
     "output_type": "execute_result"
    }
   ],
   "source": [
    "x=X.columns.to_list()\n",
    "for i in x:\n",
    "    X[i]=NullClearner(X[i])  \n",
    "X=EncodeX(X)\n",
    "Y=EncodeY(NullClearner(Y))\n",
    "X.head()"
   ]
  },
  {
   "cell_type": "markdown",
   "metadata": {
    "id": "lSMfmgUiI8dJ"
   },
   "source": [
    "#### Correlation Map\n",
    "\n",
    "In order to check the correlation between the features, we will plot a correlation matrix. It is effective in summarizing a large amount of data where the goal is to see patterns."
   ]
  },
  {
   "cell_type": "code",
   "execution_count": 33,
   "metadata": {
    "colab": {
     "base_uri": "https://localhost:8080/",
     "height": 1000
    },
    "id": "N3MzDudTI8dJ",
    "outputId": "4f6c97f1-d9f5-433c-95a4-db74925b6c15"
   },
   "outputs": [
    {
     "data": {
      "image/png": "[encoded data removed]",
      "text/plain": [
       "<Figure size 1296x1296 with 2 Axes>"
      ]
     },
     "metadata": {
      "needs_background": "light"
     },
     "output_type": "display_data"
    }
   ],
   "source": [
    "f,ax = plt.subplots(figsize=(18, 18))\n",
    "matrix = np.triu(X.corr())\n",
    "sns.heatmap(X.corr(), annot=True, linewidths=.5, fmt= '.1f',ax=ax, mask=matrix)\n",
    "plt.show()"
   ]
  },
  {
   "cell_type": "markdown",
   "metadata": {
    "id": "BCzPWpndI8dK"
   },
   "source": [
    "### Data Splitting\n",
    "\n",
    "The train-test split is a procedure for evaluating the performance of an algorithm. The procedure involves taking a dataset and dividing it into two subsets. The first subset is utilized to fit/train the model. The second subset is used for prediction. The main motive is to estimate the performance of the model on new data."
   ]
  },
  {
   "cell_type": "code",
   "execution_count": 34,
   "metadata": {
    "id": "sDBwqB_iI8dL"
   },
   "outputs": [],
   "source": [
    "x_train,x_test,y_train,y_test=train_test_split(X,Y,test_size=0.2,random_state=123)"
   ]
  },
  {
   "cell_type": "markdown",
   "metadata": {},
   "source": [
    "### Data Rescaling\n",
    "Scale features using statistics that are robust to outliers.\n",
    "\n",
    "This Scaler removes the median and scales the data according to the quantile range (defaults to IQR: Interquartile Range). The IQR is the range between the 1st quartile (25th quantile) and the 3rd quartile (75th quantile).\n",
    "\n",
    "[For more Reference](https://scikit-learn.org/stable/modules/generated/sklearn.preprocessing.RobustScaler.html)"
   ]
  },
  {
   "cell_type": "code",
   "execution_count": 21,
   "metadata": {},
   "outputs": [],
   "source": [
    "scaler = RobustScaler()\n",
    "x_train = scaler.fit_transform(x_train)\n",
    "x_test = scaler.transform(x_test)"
   ]
  },
  {
   "cell_type": "markdown",
   "metadata": {
    "id": "WK7QxtTi_Idj"
   },
   "source": [
    "### Handling Target Imbalance\n",
    "The challenge of working with imbalanced datasets is that most machine learning techniques will ignore, and in turn have poor performance on, the minority class, although typically it is performance on the minority class that is most important.\n",
    "\n",
    "One approach to addressing imbalanced datasets is to oversample the minority class. The simplest approach involves duplicating examples in the minority class.We will perform overspampling using imblearn library."
   ]
  },
  {
   "cell_type": "code",
   "execution_count": 35,
   "metadata": {
    "id": "KQfDWmFE_MGB"
   },
   "outputs": [],
   "source": [
    "x_train,y_train = RandomOverSampler(random_state=123).fit_resample(x_train, y_train)"
   ]
  },
  {
   "cell_type": "markdown",
   "metadata": {
    "id": "lGYlVXGTI8dL"
   },
   "source": [
    "### Model\n",
    "\n",
    "Bayesian ridge regression.\n",
    "\n",
    "Fit a Bayesian ridge model. See the Notes section for details on this implementation and the optimization of the regularization parameters lambda (precision of the weights) and alpha (precision of the noise).\n",
    "\n",
    "Model Tuning Parameters\n",
    ">**n_iterint, default=300**\n",
    "Maximum number of iterations. Should be greater than or equal to 1.\n",
    "\n",
    ">**tolfloat, default=1e-3**\n",
    "Stop the algorithm if w has converged.\n",
    "\n",
    ">**alpha_1float, default=1e-6**\n",
    "Hyper-parameter : shape parameter for the Gamma distribution prior over the alpha parameter.\n",
    "\n",
    ">**alpha_2float, default=1e-6**\n",
    "Hyper-parameter : inverse scale parameter (rate parameter) for the Gamma distribution prior over the alpha parameter.\n",
    "\n",
    ">**lambda_1float, default=1e-6**\n",
    "Hyper-parameter : shape parameter for the Gamma distribution prior over the lambda parameter.\n",
    "\n",
    ">**lambda_2float, default=1e-6**\n",
    "Hyper-parameter : inverse scale parameter (rate parameter) for the Gamma distribution prior over the lambda parameter.\n",
    "\n",
    ">**alpha_initfloat, default=None**\n",
    "Initial value for alpha (precision of the noise). If not set, alpha_init is 1/Var(y).\n",
    "\n",
    "[For more Reference](https://scikit-learn.org/stable/modules/generated/sklearn.linear_model.BayesianRidge.html)"
   ]
  },
  {
   "cell_type": "markdown",
   "metadata": {
    "id": "fa37UUYW6M6O"
   },
   "source": [
    "### Quantile Transformer\n",
    "\n",
    "Transform features using quantiles information.\n",
    "\n",
    "This method transforms the features to follow a uniform or a normal distribution. Therefore, for a given feature, this transformation tends to spread out the most frequent values. It also reduces the impact of (marginal) outliers: this is therefore a robust preprocessing scheme.\n",
    "\n",
    "For Reference:-\n",
    "\n",
    "[QuantileTransformer API](https://scikit-learn.org/stable/modules/generated/sklearn.preprocessing.QuantileTransformer.html)"
   ]
  },
  {
   "cell_type": "code",
   "execution_count": 39,
   "metadata": {
    "colab": {
     "base_uri": "https://localhost:8080/"
    },
    "id": "vjQa0UjOulBw",
    "outputId": "5bf6bf8c-e174-4039-aeb4-a4de3f3df006"
   },
   "outputs": [
    {
     "data": {
      "text/plain": [
       "Pipeline(steps=[('robustscaler', RobustScaler()),\n",
       "                ('quantiletransformer', QuantileTransformer()),\n",
       "                ('bayesianridge', BayesianRidge())])"
      ]
     },
     "execution_count": 39,
     "metadata": {},
     "output_type": "execute_result"
    }
   ],
   "source": [
    "model=make_pipeline(RobustScaler(),QuantileTransformer(), BayesianRidge())\n",
    "model.fit(x_train,y_train)"
   ]
  },
  {
   "cell_type": "markdown",
   "metadata": {
    "id": "IF1ERs_jI8dN"
   },
   "source": [
    "#### Model Accuracy\n",
    "\n",
    "We will use the trained model to make a prediction on the test set.Then use the predicted value for measuring the accuracy of our model.\n",
    "\n",
    "score: The score function returns the coefficient of determination R2 of the prediction.\n",
    "\n"
   ]
  },
  {
   "cell_type": "code",
   "execution_count": 40,
   "metadata": {
    "colab": {
     "base_uri": "https://localhost:8080/"
    },
    "id": "2EVdoyqyI8dN",
    "outputId": "1721599c-7ad6-4e2a-b7e6-7cd96838428e"
   },
   "outputs": [
    {
     "name": "stdout",
     "output_type": "stream",
     "text": [
      "Accuracy score 20.55 %\n",
      "\n"
     ]
    }
   ],
   "source": [
    "print(\"Accuracy score {:.2f} %\\n\".format(model.score(x_test,y_test)*100))"
   ]
  },
  {
   "cell_type": "code",
   "execution_count": 44,
   "metadata": {},
   "outputs": [
    {
     "name": "stdout",
     "output_type": "stream",
     "text": [
      "R2 Score: 20.55 %\n",
      "Mean Absolute Error 176.66\n",
      "Mean Squared Error 45297.10\n"
     ]
    }
   ],
   "source": [
    "y_pred=model.predict(x_test)\n",
    "print(\"R2 Score: {:.2f} %\".format(r2_score(y_test,y_pred)*100))\n",
    "print(\"Mean Absolute Error {:.2f}\".format(mean_absolute_error(y_test,y_pred)))\n",
    "print(\"Mean Squared Error {:.2f}\".format(mean_squared_error(y_test,y_pred)))"
   ]
  },
  {
   "cell_type": "markdown",
   "metadata": {},
   "source": [
    "#### Prediction Plot\n",
    "\n",
    "First, we make use of a plot to plot the actual observations, with x_train on the x-axis and y_train on the y-axis.\n",
    "For the regression line, we will use x_train on the x-axis and then the predictions of the x_train observations on the y-axis.\n"
   ]
  },
  {
   "cell_type": "code",
   "execution_count": 46,
   "metadata": {},
   "outputs": [
    {
     "data": {
      "image/png": "[encoded data removed]",
      "text/plain": [
       "<Figure size 1008x720 with 1 Axes>"
      ]
     },
     "metadata": {
      "needs_background": "light"
     },
     "output_type": "display_data"
    }
   ],
   "source": [
    "plt.figure(figsize=(14,10))\n",
    "plt.plot(range(20),y_test[0:20], color = \"green\")\n",
    "plt.plot(range(20),model.predict(x_test[0:20]), color = \"red\")\n",
    "plt.legend([\"Actual\",\"prediction\"]) \n",
    "plt.title(\"Predicted vs True Value\")\n",
    "plt.xlabel(\"Record number\")\n",
    "plt.ylabel(target)\n",
    "plt.show()"
   ]
  },
  {
   "cell_type": "markdown",
   "metadata": {
    "id": "eLjzoA50I8dP"
   },
   "source": [
    "#### Creator: Jay Shimpi, Github: [Profile](https://github.com/JayShimpi22)"
   ]
  }
 ],
 "metadata": {
  "colab": {
   "collapsed_sections": [],
   "name": "LogisticRegression_Scale_PowerTransformer.ipynb",
   "provenance": []
  },
  "interpreter": {
   "hash": "51a9663a131f1b5758c45b97a2d6917c8ae86b33e231c3733631cbc7265cfc89"
  },
  "kernelspec": {
   "display_name": "Python 3",
   "language": "python",
   "name": "python3"
  },
  "language_info": {
   "codemirror_mode": {
    "name": "ipython",
    "version": 3
   },
   "file_extension": ".py",
   "mimetype": "text/x-python",
   "name": "python",
   "nbconvert_exporter": "python",
   "pygments_lexer": "ipython3",
   "version": "3.7.8rc1"
  }
 },
 "nbformat": 4,
 "nbformat_minor": 1
}
